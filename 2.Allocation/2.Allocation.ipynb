{
 "cells": [
  {
   "cell_type": "markdown",
   "id": "70df591d",
   "metadata": {},
   "source": [
    "Package needed"
   ]
  },
  {
   "cell_type": "code",
   "execution_count": 1,
   "id": "9bffaf38",
   "metadata": {},
   "outputs": [
    {
     "name": "stderr",
     "output_type": "stream",
     "text": [
      "c:\\Users\\ye2208\\Anaconda3\\lib\\site-packages\\pandas\\core\\computation\\expressions.py:21: UserWarning: Pandas requires version '2.8.4' or newer of 'numexpr' (version '2.7.3' currently installed).\n",
      "  from pandas.core.computation.check import NUMEXPR_INSTALLED\n",
      "c:\\Users\\ye2208\\Anaconda3\\lib\\site-packages\\pandas\\core\\arrays\\masked.py:60: UserWarning: Pandas requires version '1.3.6' or newer of 'bottleneck' (version '1.3.2' currently installed).\n",
      "  from pandas.core import (\n"
     ]
    }
   ],
   "source": [
    "import pandas as pd\n",
    "import numpy as np\n",
    "from pulp import *\n",
    "from dash import Dash, dcc, html, Input, Output\n",
    "import plotly.express as px"
   ]
  },
  {
   "cell_type": "markdown",
   "id": "0aad60a1",
   "metadata": {},
   "source": [
    "1.0 Initial Data Input"
   ]
  },
  {
   "cell_type": "code",
   "execution_count": 2,
   "id": "a7eea35e",
   "metadata": {},
   "outputs": [],
   "source": [
    "\n",
    "# Table 1：Total Supply\n",
    "supply_cum = {\n",
    "    'Jan Wk2':230, \n",
    "    'Jan Wk3':270, \n",
    "    'Jan Wk4':320, \n",
    "    'Jan Wk5':380\n",
    "}\n",
    "\n",
    "# Table 2:Jan Wk1 Actual build\n",
    "built = {\n",
    "    'Superman':70, \n",
    "    'Superman_Plus':70, \n",
    "    'Superman_Mini':60\n",
    "}\n",
    "\n",
    "# Table 3: Demand Forecast\n",
    "demand_cum = {\n",
    "    'Superman':   [85, 100, 110, 120],    # Jan Wk2-Wk5\n",
    "    'Superman_Plus': [85, 120, 150, 175],\n",
    "    'Superman_Mini': [40, 60, 70, 75]\n",
    "}\n",
    "\n",
    "# Table 4：Superman Plus by channel needs （Jan Wk2-Wk5）\n",
    "Superman_Plus_demand = {\n",
    "    ('Online Store'):       [20, 30, 40, 50],\n",
    "    ('Retail Store'):    [15, 25, 30, 35],\n",
    "    ('Reseller', 'PAC'):     [25, 30, 35, 40],  # Prioritize PAC\n",
    "    ('Reseller', 'AMR'):     [20, 25, 30, 35],\n",
    "    ('Reseller', 'Europe'):  [5, 10, 15, 15]\n",
    "}\n",
    "\n",
    "\n",
    "# Cum Demand\n",
    "def cum_to_weekly(cum_list):\n",
    "    return [cum_list[0]] + [cum_list[i]-cum_list[i-1] for i in range(1,len(cum_list))]\n",
    "\n",
    "Superman_Plus_demand_weekly = {k: cum_to_weekly(v) for k,v in Superman_Plus_demand.items()}\n",
    "\n",
    "demand_weekly = {k: cum_to_weekly(v) for k,v in demand_cum.items()}\n",
    "\n",
    "\n",
    "# Weekly Suppluy\n",
    "supply_weekly = {\n",
    "    'Jan Wk2': supply_cum['Jan Wk2'] - sum(built.values()),\n",
    "    'Jan Wk3': supply_cum['Jan Wk3'] - supply_cum['Jan Wk2'],\n",
    "    'Jan Wk4': supply_cum['Jan Wk4'] - supply_cum['Jan Wk3'],\n",
    "    'Jan Wk5': supply_cum['Jan Wk5'] - supply_cum['Jan Wk4']\n",
    "}"
   ]
  },
  {
   "cell_type": "code",
   "execution_count": 3,
   "id": "c7d63a9a",
   "metadata": {},
   "outputs": [
    {
     "data": {
      "text/plain": [
       "{'Jan Wk2': 230, 'Jan Wk3': 270, 'Jan Wk4': 320, 'Jan Wk5': 380}"
      ]
     },
     "execution_count": 3,
     "metadata": {},
     "output_type": "execute_result"
    }
   ],
   "source": [
    "supply_cum"
   ]
  },
  {
   "cell_type": "code",
   "execution_count": 4,
   "id": "992bc241",
   "metadata": {},
   "outputs": [
    {
     "data": {
      "text/plain": [
       "{'Jan Wk2': 30, 'Jan Wk3': 40, 'Jan Wk4': 50, 'Jan Wk5': 60}"
      ]
     },
     "execution_count": 4,
     "metadata": {},
     "output_type": "execute_result"
    }
   ],
   "source": [
    "supply_weekly "
   ]
  },
  {
   "cell_type": "code",
   "execution_count": 5,
   "id": "fdd2d758",
   "metadata": {},
   "outputs": [
    {
     "data": {
      "text/plain": [
       "{'Superman': [85, 100, 110, 120],\n",
       " 'Superman_Plus': [85, 120, 150, 175],\n",
       " 'Superman_Mini': [40, 60, 70, 75]}"
      ]
     },
     "execution_count": 5,
     "metadata": {},
     "output_type": "execute_result"
    }
   ],
   "source": [
    "demand_cum"
   ]
  },
  {
   "cell_type": "code",
   "execution_count": 6,
   "id": "1cad1ea5",
   "metadata": {},
   "outputs": [
    {
     "data": {
      "text/plain": [
       "{'Superman': [85, 15, 10, 10],\n",
       " 'Superman_Plus': [85, 35, 30, 25],\n",
       " 'Superman_Mini': [40, 20, 10, 5]}"
      ]
     },
     "execution_count": 6,
     "metadata": {},
     "output_type": "execute_result"
    }
   ],
   "source": [
    "demand_weekly"
   ]
  },
  {
   "cell_type": "code",
   "execution_count": 7,
   "id": "92e5eb11",
   "metadata": {},
   "outputs": [
    {
     "data": {
      "text/plain": [
       "{'Online Store': [20, 30, 40, 50],\n",
       " 'Retail Store': [15, 25, 30, 35],\n",
       " ('Reseller', 'PAC'): [25, 30, 35, 40],\n",
       " ('Reseller', 'AMR'): [20, 25, 30, 35],\n",
       " ('Reseller', 'Europe'): [5, 10, 15, 15]}"
      ]
     },
     "execution_count": 7,
     "metadata": {},
     "output_type": "execute_result"
    }
   ],
   "source": [
    "Superman_Plus_demand           #Superman_Plus : By channel/customer"
   ]
  },
  {
   "cell_type": "code",
   "execution_count": 8,
   "id": "a488d9c2",
   "metadata": {},
   "outputs": [
    {
     "data": {
      "text/plain": [
       "{'Online Store': [20, 10, 10, 10],\n",
       " 'Retail Store': [15, 10, 5, 5],\n",
       " ('Reseller', 'PAC'): [25, 5, 5, 5],\n",
       " ('Reseller', 'AMR'): [20, 5, 5, 5],\n",
       " ('Reseller', 'Europe'): [5, 5, 5, 0]}"
      ]
     },
     "execution_count": 8,
     "metadata": {},
     "output_type": "execute_result"
    }
   ],
   "source": [
    "Superman_Plus_demand_weekly    #Superman_Plus : By channel/customer"
   ]
  },
  {
   "cell_type": "markdown",
   "id": "ce2d2aa6",
   "metadata": {},
   "source": [
    "1.1  Business Rule: Priotity"
   ]
  },
  {
   "cell_type": "code",
   "execution_count": 9,
   "id": "311ca4ac",
   "metadata": {},
   "outputs": [
    {
     "name": "stdout",
     "output_type": "stream",
     "text": [
      "Remaining_Capacity:\n"
     ]
    },
    {
     "data": {
      "text/html": [
       "<div>\n",
       "<style scoped>\n",
       "    .dataframe tbody tr th:only-of-type {\n",
       "        vertical-align: middle;\n",
       "    }\n",
       "\n",
       "    .dataframe tbody tr th {\n",
       "        vertical-align: top;\n",
       "    }\n",
       "\n",
       "    .dataframe thead th {\n",
       "        text-align: right;\n",
       "    }\n",
       "</style>\n",
       "<table border=\"1\" class=\"dataframe\">\n",
       "  <thead>\n",
       "    <tr style=\"text-align: right;\">\n",
       "      <th></th>\n",
       "      <th>Jan Wk2</th>\n",
       "      <th>Jan Wk3</th>\n",
       "      <th>Jan Wk4</th>\n",
       "      <th>Jan Wk5</th>\n",
       "    </tr>\n",
       "  </thead>\n",
       "  <tbody>\n",
       "    <tr>\n",
       "      <th>0</th>\n",
       "      <td>15</td>\n",
       "      <td>25</td>\n",
       "      <td>30</td>\n",
       "      <td>45</td>\n",
       "    </tr>\n",
       "  </tbody>\n",
       "</table>\n",
       "</div>"
      ],
      "text/plain": [
       "   Jan Wk2  Jan Wk3  Jan Wk4  Jan Wk5\n",
       "0       15       25       30       45"
      ]
     },
     "execution_count": 9,
     "metadata": {},
     "output_type": "execute_result"
    }
   ],
   "source": [
    "# ## Allocation Priority\n",
    "\n",
    "# 1) First：Fulfill Superman, Superman_Mini\n",
    "alloc_priority = {'Superman': [], 'Superman_Mini': []}\n",
    "remaining_capacity = {}\n",
    "\n",
    "for week_idx in range(4):\n",
    "    wk = f'Jan Wk{week_idx+2}'\n",
    "    \n",
    "    # Superman Demand Gap\n",
    "    superman_needed = max(0, demand_cum['Superman'][week_idx] - built['Superman'])\n",
    "    superman_alloc= min(superman_needed, supply_weekly[wk])\n",
    "    alloc_priority['Superman'].append(superman_alloc)\n",
    "    built['Superman'] += superman_alloc\n",
    "    \n",
    "    # Mini Demand Gap\n",
    "    mini_needed = max(0, demand_cum['Superman_Mini'][week_idx] - built['Superman_Mini'])\n",
    "    mini_alloc = min(mini_needed, supply_weekly[wk] - superman_alloc)\n",
    "    alloc_priority['Superman_Mini'].append(mini_alloc)\n",
    "    built['Superman_Mini'] += mini_alloc\n",
    "    \n",
    "    # Remaining_Capacity\n",
    "    remaining_capacity[wk] = supply_weekly[wk] - superman_alloc - mini_alloc\n",
    "\n",
    "print(\"Remaining_Capacity:\")\n",
    "pd.DataFrame([remaining_capacity])\n"
   ]
  },
  {
   "cell_type": "code",
   "execution_count": 10,
   "id": "e3b7a17f",
   "metadata": {},
   "outputs": [
    {
     "data": {
      "text/plain": [
       "{'Superman': [15, 15, 10, 10], 'Superman_Mini': [0, 0, 10, 5]}"
      ]
     },
     "execution_count": 10,
     "metadata": {},
     "output_type": "execute_result"
    }
   ],
   "source": [
    "alloc_priority"
   ]
  },
  {
   "cell_type": "markdown",
   "id": "000bec44",
   "metadata": {},
   "source": [
    "1.2 Optimization Allocate"
   ]
  },
  {
   "cell_type": "code",
   "execution_count": 11,
   "id": "1d21b874",
   "metadata": {},
   "outputs": [
    {
     "name": "stdout",
     "output_type": "stream",
     "text": [
      "Allocation：\n"
     ]
    },
    {
     "data": {
      "text/html": [
       "<div>\n",
       "<style scoped>\n",
       "    .dataframe tbody tr th:only-of-type {\n",
       "        vertical-align: middle;\n",
       "    }\n",
       "\n",
       "    .dataframe tbody tr th {\n",
       "        vertical-align: top;\n",
       "    }\n",
       "\n",
       "    .dataframe thead tr th {\n",
       "        text-align: left;\n",
       "    }\n",
       "\n",
       "    .dataframe thead tr:last-of-type th {\n",
       "        text-align: right;\n",
       "    }\n",
       "</style>\n",
       "<table border=\"1\" class=\"dataframe\">\n",
       "  <thead>\n",
       "    <tr>\n",
       "      <th></th>\n",
       "      <th></th>\n",
       "      <th colspan=\"4\" halign=\"left\">Allocated</th>\n",
       "      <th colspan=\"4\" halign=\"left\">Demand</th>\n",
       "    </tr>\n",
       "    <tr>\n",
       "      <th></th>\n",
       "      <th>Week</th>\n",
       "      <th>Jan Wk2</th>\n",
       "      <th>Jan Wk3</th>\n",
       "      <th>Jan Wk4</th>\n",
       "      <th>Jan Wk5</th>\n",
       "      <th>Jan Wk2</th>\n",
       "      <th>Jan Wk3</th>\n",
       "      <th>Jan Wk4</th>\n",
       "      <th>Jan Wk5</th>\n",
       "    </tr>\n",
       "    <tr>\n",
       "      <th>Channel</th>\n",
       "      <th>Region</th>\n",
       "      <th></th>\n",
       "      <th></th>\n",
       "      <th></th>\n",
       "      <th></th>\n",
       "      <th></th>\n",
       "      <th></th>\n",
       "      <th></th>\n",
       "      <th></th>\n",
       "    </tr>\n",
       "  </thead>\n",
       "  <tbody>\n",
       "    <tr>\n",
       "      <th>O</th>\n",
       "      <th>n</th>\n",
       "      <td>NaN</td>\n",
       "      <td>10.0</td>\n",
       "      <td>10.0</td>\n",
       "      <td>10.0</td>\n",
       "      <td>NaN</td>\n",
       "      <td>10.0</td>\n",
       "      <td>10.0</td>\n",
       "      <td>10.0</td>\n",
       "    </tr>\n",
       "    <tr>\n",
       "      <th>R</th>\n",
       "      <th>e</th>\n",
       "      <td>15.0</td>\n",
       "      <td>NaN</td>\n",
       "      <td>5.0</td>\n",
       "      <td>5.0</td>\n",
       "      <td>15.0</td>\n",
       "      <td>NaN</td>\n",
       "      <td>5.0</td>\n",
       "      <td>5.0</td>\n",
       "    </tr>\n",
       "    <tr>\n",
       "      <th rowspan=\"3\" valign=\"top\">Reseller</th>\n",
       "      <th>AMR</th>\n",
       "      <td>NaN</td>\n",
       "      <td>5.0</td>\n",
       "      <td>5.0</td>\n",
       "      <td>5.0</td>\n",
       "      <td>NaN</td>\n",
       "      <td>5.0</td>\n",
       "      <td>5.0</td>\n",
       "      <td>5.0</td>\n",
       "    </tr>\n",
       "    <tr>\n",
       "      <th>Europe</th>\n",
       "      <td>NaN</td>\n",
       "      <td>5.0</td>\n",
       "      <td>5.0</td>\n",
       "      <td>NaN</td>\n",
       "      <td>NaN</td>\n",
       "      <td>5.0</td>\n",
       "      <td>5.0</td>\n",
       "      <td>NaN</td>\n",
       "    </tr>\n",
       "    <tr>\n",
       "      <th>PAC</th>\n",
       "      <td>NaN</td>\n",
       "      <td>5.0</td>\n",
       "      <td>5.0</td>\n",
       "      <td>5.0</td>\n",
       "      <td>NaN</td>\n",
       "      <td>5.0</td>\n",
       "      <td>5.0</td>\n",
       "      <td>5.0</td>\n",
       "    </tr>\n",
       "  </tbody>\n",
       "</table>\n",
       "</div>"
      ],
      "text/plain": [
       "                Allocated                          Demand                  \\\n",
       "Week              Jan Wk2 Jan Wk3 Jan Wk4 Jan Wk5 Jan Wk2 Jan Wk3 Jan Wk4   \n",
       "Channel  Region                                                             \n",
       "O        n            NaN    10.0    10.0    10.0     NaN    10.0    10.0   \n",
       "R        e           15.0     NaN     5.0     5.0    15.0     NaN     5.0   \n",
       "Reseller AMR          NaN     5.0     5.0     5.0     NaN     5.0     5.0   \n",
       "         Europe       NaN     5.0     5.0     NaN     NaN     5.0     5.0   \n",
       "         PAC          NaN     5.0     5.0     5.0     NaN     5.0     5.0   \n",
       "\n",
       "                         \n",
       "Week            Jan Wk5  \n",
       "Channel  Region          \n",
       "O        n         10.0  \n",
       "R        e          5.0  \n",
       "Reseller AMR        5.0  \n",
       "         Europe     NaN  \n",
       "         PAC        5.0  "
      ]
     },
     "metadata": {},
     "output_type": "display_data"
    },
    {
     "name": "stdout",
     "output_type": "stream",
     "text": [
      "\n",
      "Optimize Jan Wk4 PAC （Jan Wk4 PAC）：\n"
     ]
    },
    {
     "data": {
      "text/plain": [
       "[0     False\n",
       " 1     False\n",
       " 2     False\n",
       " 3     False\n",
       " 4     False\n",
       " 5     False\n",
       " 6     False\n",
       " 7      True\n",
       " 8     False\n",
       " 9     False\n",
       " 10    False\n",
       " 11    False\n",
       " 12    False\n",
       " 13    False\n",
       " dtype: bool]"
      ]
     },
     "metadata": {},
     "output_type": "display_data"
    }
   ],
   "source": [
    "# 2) Opitimization Model:  LpProble, using pulp to solve the allocation problem\n",
    "\n",
    "model = LpProblem(\"Superman_Plus_Allocation\", LpMaximize)\n",
    "\n",
    "weeks = ['Jan Wk2', 'Jan Wk3', 'Jan Wk4', 'Jan Wk5']\n",
    "#channels = list(plus_demand_weekly.keys())\n",
    "channels = list(Superman_Plus_demand_weekly.keys())\n",
    "alloc_vars = LpVariable.dicts(\"Alloc\", (channels, weeks), lowBound=0, cat='Integer')\n",
    "\n",
    "# Objective Function：Maxmize Demand Needs（ Optimize latest week needs）\n",
    "time_decay = [1.2**i for i in range(4)]  #  time_decay\n",
    "model += lpSum([alloc_vars[c][w] * time_decay[weeks.index(w)] \n",
    "               for c in channels for w in weeks])\n",
    "\n",
    "# Contraints:\n",
    "for w in weeks:\n",
    "    # Remaining_capacity constraint\n",
    "    model += lpSum(alloc_vars[c][w] for c in channels) <= remaining_capacity[w]\n",
    "    \n",
    "    # Optimize Jan Wk4 PAC \n",
    "    if w == 'Jan Wk4':\n",
    "        pac_reseller = [c for c in channels if c[1]=='PAC'][0]\n",
    "        model += alloc_vars[pac_reseller][w] >= Superman_Plus_demand_weekly[pac_reseller][weeks.index(w)]\n",
    "\n",
    "# Upper constraints\n",
    "for c in channels:\n",
    "    for week_idx, w in enumerate(weeks):\n",
    "        model += alloc_vars[c][w] <= Superman_Plus_demand_weekly[c][week_idx]\n",
    "\n",
    "# Solver\n",
    "model.solve()\n",
    "\n",
    "\n",
    "# ## Result Analysis\n",
    "\n",
    "alloc_results = []\n",
    "for c in channels:\n",
    "    for w in weeks:\n",
    "        val = value(alloc_vars[c][w])\n",
    "        if val > 0:\n",
    "            alloc_results.append({\n",
    "                'Channel': c[0],\n",
    "                'Region': c[1],\n",
    "                'Week': w,\n",
    "                'Allocated': val,\n",
    "                'Demand': Superman_Plus_demand_weekly[c][weeks.index(w)],\n",
    "                'Fulfill rate': f\"{val/Superman_Plus_demand_weekly[c][weeks.index(w)]*100:.1f}%\"\n",
    "            })\n",
    "\n",
    "# Visualize allocation results\n",
    "allo_df = pd.DataFrame(alloc_results)\n",
    "\n",
    "pivot_table = allo_df.pivot_table(\n",
    "    index=['Channel','Region'], \n",
    "    columns='Week', \n",
    "    values=['Allocated','Demand'],\n",
    "    aggfunc='sum'\n",
    ")\n",
    "print(\"Allocation：\")\n",
    "display(pivot_table)\n",
    "\n",
    "# Validate  Optimize Jan Wk4 PAC \n",
    "print(\"\\nOptimize Jan Wk4 PAC （Jan Wk4 PAC）：\")\n",
    "display([(allo_df['Region']=='PAC') & (allo_df['Week']=='Jan Wk4')])\n",
    "\n"
   ]
  },
  {
   "cell_type": "code",
   "execution_count": 12,
   "id": "d545c4a7",
   "metadata": {},
   "outputs": [
    {
     "data": {
      "text/html": [
       "<div>\n",
       "<style scoped>\n",
       "    .dataframe tbody tr th:only-of-type {\n",
       "        vertical-align: middle;\n",
       "    }\n",
       "\n",
       "    .dataframe tbody tr th {\n",
       "        vertical-align: top;\n",
       "    }\n",
       "\n",
       "    .dataframe thead th {\n",
       "        text-align: right;\n",
       "    }\n",
       "</style>\n",
       "<table border=\"1\" class=\"dataframe\">\n",
       "  <thead>\n",
       "    <tr style=\"text-align: right;\">\n",
       "      <th></th>\n",
       "      <th>Channel</th>\n",
       "      <th>Region</th>\n",
       "      <th>Week</th>\n",
       "      <th>Allocated</th>\n",
       "      <th>Demand</th>\n",
       "      <th>Fulfill rate</th>\n",
       "    </tr>\n",
       "  </thead>\n",
       "  <tbody>\n",
       "    <tr>\n",
       "      <th>7</th>\n",
       "      <td>Reseller</td>\n",
       "      <td>PAC</td>\n",
       "      <td>Jan Wk4</td>\n",
       "      <td>5.0</td>\n",
       "      <td>5</td>\n",
       "      <td>100.0%</td>\n",
       "    </tr>\n",
       "  </tbody>\n",
       "</table>\n",
       "</div>"
      ],
      "text/plain": [
       "    Channel Region     Week  Allocated  Demand Fulfill rate\n",
       "7  Reseller    PAC  Jan Wk4        5.0       5       100.0%"
      ]
     },
     "execution_count": 12,
     "metadata": {},
     "output_type": "execute_result"
    }
   ],
   "source": [
    "allo_df[(allo_df['Region']=='PAC') & (allo_df['Week']=='Jan Wk4')]"
   ]
  },
  {
   "cell_type": "code",
   "execution_count": 13,
   "id": "5c8a24c9",
   "metadata": {},
   "outputs": [
    {
     "data": {
      "text/html": [
       "<div>\n",
       "<style scoped>\n",
       "    .dataframe tbody tr th:only-of-type {\n",
       "        vertical-align: middle;\n",
       "    }\n",
       "\n",
       "    .dataframe tbody tr th {\n",
       "        vertical-align: top;\n",
       "    }\n",
       "\n",
       "    .dataframe thead th {\n",
       "        text-align: right;\n",
       "    }\n",
       "</style>\n",
       "<table border=\"1\" class=\"dataframe\">\n",
       "  <thead>\n",
       "    <tr style=\"text-align: right;\">\n",
       "      <th></th>\n",
       "      <th>Channel</th>\n",
       "      <th>Region</th>\n",
       "      <th>Week</th>\n",
       "      <th>Allocated</th>\n",
       "      <th>Demand</th>\n",
       "      <th>Fulfill rate</th>\n",
       "    </tr>\n",
       "  </thead>\n",
       "  <tbody>\n",
       "    <tr>\n",
       "      <th>0</th>\n",
       "      <td>O</td>\n",
       "      <td>n</td>\n",
       "      <td>Jan Wk3</td>\n",
       "      <td>10.0</td>\n",
       "      <td>10</td>\n",
       "      <td>100.0%</td>\n",
       "    </tr>\n",
       "    <tr>\n",
       "      <th>1</th>\n",
       "      <td>O</td>\n",
       "      <td>n</td>\n",
       "      <td>Jan Wk4</td>\n",
       "      <td>10.0</td>\n",
       "      <td>10</td>\n",
       "      <td>100.0%</td>\n",
       "    </tr>\n",
       "    <tr>\n",
       "      <th>2</th>\n",
       "      <td>O</td>\n",
       "      <td>n</td>\n",
       "      <td>Jan Wk5</td>\n",
       "      <td>10.0</td>\n",
       "      <td>10</td>\n",
       "      <td>100.0%</td>\n",
       "    </tr>\n",
       "    <tr>\n",
       "      <th>3</th>\n",
       "      <td>R</td>\n",
       "      <td>e</td>\n",
       "      <td>Jan Wk2</td>\n",
       "      <td>15.0</td>\n",
       "      <td>15</td>\n",
       "      <td>100.0%</td>\n",
       "    </tr>\n",
       "    <tr>\n",
       "      <th>4</th>\n",
       "      <td>R</td>\n",
       "      <td>e</td>\n",
       "      <td>Jan Wk4</td>\n",
       "      <td>5.0</td>\n",
       "      <td>5</td>\n",
       "      <td>100.0%</td>\n",
       "    </tr>\n",
       "    <tr>\n",
       "      <th>5</th>\n",
       "      <td>R</td>\n",
       "      <td>e</td>\n",
       "      <td>Jan Wk5</td>\n",
       "      <td>5.0</td>\n",
       "      <td>5</td>\n",
       "      <td>100.0%</td>\n",
       "    </tr>\n",
       "    <tr>\n",
       "      <th>6</th>\n",
       "      <td>Reseller</td>\n",
       "      <td>PAC</td>\n",
       "      <td>Jan Wk3</td>\n",
       "      <td>5.0</td>\n",
       "      <td>5</td>\n",
       "      <td>100.0%</td>\n",
       "    </tr>\n",
       "    <tr>\n",
       "      <th>7</th>\n",
       "      <td>Reseller</td>\n",
       "      <td>PAC</td>\n",
       "      <td>Jan Wk4</td>\n",
       "      <td>5.0</td>\n",
       "      <td>5</td>\n",
       "      <td>100.0%</td>\n",
       "    </tr>\n",
       "    <tr>\n",
       "      <th>8</th>\n",
       "      <td>Reseller</td>\n",
       "      <td>PAC</td>\n",
       "      <td>Jan Wk5</td>\n",
       "      <td>5.0</td>\n",
       "      <td>5</td>\n",
       "      <td>100.0%</td>\n",
       "    </tr>\n",
       "    <tr>\n",
       "      <th>9</th>\n",
       "      <td>Reseller</td>\n",
       "      <td>AMR</td>\n",
       "      <td>Jan Wk3</td>\n",
       "      <td>5.0</td>\n",
       "      <td>5</td>\n",
       "      <td>100.0%</td>\n",
       "    </tr>\n",
       "    <tr>\n",
       "      <th>10</th>\n",
       "      <td>Reseller</td>\n",
       "      <td>AMR</td>\n",
       "      <td>Jan Wk4</td>\n",
       "      <td>5.0</td>\n",
       "      <td>5</td>\n",
       "      <td>100.0%</td>\n",
       "    </tr>\n",
       "    <tr>\n",
       "      <th>11</th>\n",
       "      <td>Reseller</td>\n",
       "      <td>AMR</td>\n",
       "      <td>Jan Wk5</td>\n",
       "      <td>5.0</td>\n",
       "      <td>5</td>\n",
       "      <td>100.0%</td>\n",
       "    </tr>\n",
       "    <tr>\n",
       "      <th>12</th>\n",
       "      <td>Reseller</td>\n",
       "      <td>Europe</td>\n",
       "      <td>Jan Wk3</td>\n",
       "      <td>5.0</td>\n",
       "      <td>5</td>\n",
       "      <td>100.0%</td>\n",
       "    </tr>\n",
       "    <tr>\n",
       "      <th>13</th>\n",
       "      <td>Reseller</td>\n",
       "      <td>Europe</td>\n",
       "      <td>Jan Wk4</td>\n",
       "      <td>5.0</td>\n",
       "      <td>5</td>\n",
       "      <td>100.0%</td>\n",
       "    </tr>\n",
       "  </tbody>\n",
       "</table>\n",
       "</div>"
      ],
      "text/plain": [
       "     Channel  Region     Week  Allocated  Demand Fulfill rate\n",
       "0          O       n  Jan Wk3       10.0      10       100.0%\n",
       "1          O       n  Jan Wk4       10.0      10       100.0%\n",
       "2          O       n  Jan Wk5       10.0      10       100.0%\n",
       "3          R       e  Jan Wk2       15.0      15       100.0%\n",
       "4          R       e  Jan Wk4        5.0       5       100.0%\n",
       "5          R       e  Jan Wk5        5.0       5       100.0%\n",
       "6   Reseller     PAC  Jan Wk3        5.0       5       100.0%\n",
       "7   Reseller     PAC  Jan Wk4        5.0       5       100.0%\n",
       "8   Reseller     PAC  Jan Wk5        5.0       5       100.0%\n",
       "9   Reseller     AMR  Jan Wk3        5.0       5       100.0%\n",
       "10  Reseller     AMR  Jan Wk4        5.0       5       100.0%\n",
       "11  Reseller     AMR  Jan Wk5        5.0       5       100.0%\n",
       "12  Reseller  Europe  Jan Wk3        5.0       5       100.0%\n",
       "13  Reseller  Europe  Jan Wk4        5.0       5       100.0%"
      ]
     },
     "execution_count": 13,
     "metadata": {},
     "output_type": "execute_result"
    }
   ],
   "source": [
    "allo_df"
   ]
  },
  {
   "cell_type": "code",
   "execution_count": 14,
   "id": "5d1a0188",
   "metadata": {},
   "outputs": [
    {
     "name": "stderr",
     "output_type": "stream",
     "text": [
      "C:\\Users\\ye2208\\AppData\\Local\\Temp/ipykernel_24640/6350742.py:1: UserWarning: Pandas requires version '3.0.5' or newer of 'xlsxwriter' (version '3.0.1' currently installed).\n",
      "  allo_df.to_excel('Allocation_output/allo_df.xlsx')\n"
     ]
    }
   ],
   "source": [
    "allo_df.to_excel('Allocation_output/allo_df.xlsx')"
   ]
  },
  {
   "cell_type": "code",
   "execution_count": 15,
   "id": "a69fb976",
   "metadata": {},
   "outputs": [
    {
     "data": {
      "image/png": "[encoded data removed]",
      "text/plain": [
       "<Figure size 720x432 with 1 Axes>"
      ]
     },
     "metadata": {
      "needs_background": "light"
     },
     "output_type": "display_data"
    },
    {
     "name": "stdout",
     "output_type": "stream",
     "text": [
      "Week\n",
      "Jan Wk2    15.0\n",
      "Jan Wk3    25.0\n",
      "Jan Wk4    30.0\n",
      "Jan Wk5    25.0\n",
      "Name: Allocated, dtype: float64\n"
     ]
    }
   ],
   "source": [
    "import matplotlib.pyplot as plt\n",
    "\n",
    "# By Week Allocation - Bar Chart\n",
    "Superman_Plus_Weekly_Allocation = allo_df.groupby('Week')['Allocated'].sum()\n",
    "plt.figure(figsize=(10, 6))\n",
    "\n",
    "# Create bar chart\n",
    "bars = plt.bar(Superman_Plus_Weekly_Allocation.index, Superman_Plus_Weekly_Allocation.values, \n",
    "               color='skyblue', width=0.6)\n",
    "\n",
    "# Add value labels on top of each bar\n",
    "for bar in bars:\n",
    "    height = bar.get_height()\n",
    "    plt.text(bar.get_x() + bar.get_width()/2., height,\n",
    "             f'{int(height)}',\n",
    "             ha='center', va='bottom')\n",
    "\n",
    "# Customize plot\n",
    "plt.title('Superman_Plus Weekly Allocation', pad=20, fontsize=12)\n",
    "plt.xlabel('Week')\n",
    "plt.ylabel('Quantity')\n",
    "plt.grid(True, alpha=0.3)\n",
    "\n",
    "# Rotate x-axis labels for better readability\n",
    "plt.xticks(rotation=45)\n",
    "\n",
    "# Adjust layout\n",
    "#plt.tight_layout()\n",
    "\n",
    "# Save the plot as PNG with high resolution\n",
    "\n",
    "plt.savefig('Allocation_output/Superman_Plus_Weekly_Allocation.png', \n",
    "            dpi=300,\n",
    "            bbox_inches='tight',\n",
    "            facecolor='white',\n",
    "            edgecolor='none')\n",
    "\n",
    "# Display plot\n",
    "plt.show()\n",
    "\n",
    "# Close the figure to free memory\n",
    "plt.close()\n",
    "print(Superman_Plus_Weekly_Allocation)"
   ]
  },
  {
   "cell_type": "code",
   "execution_count": 16,
   "id": "238854bc",
   "metadata": {},
   "outputs": [
    {
     "data": {
      "text/plain": [
       "Week\n",
       "Jan Wk2    15.0\n",
       "Jan Wk3    25.0\n",
       "Jan Wk4    30.0\n",
       "Jan Wk5    25.0\n",
       "Name: Allocated, dtype: float64"
      ]
     },
     "execution_count": 16,
     "metadata": {},
     "output_type": "execute_result"
    }
   ],
   "source": [
    "Superman_Plus_Weekly_Allocation"
   ]
  },
  {
   "cell_type": "code",
   "execution_count": 17,
   "id": "b49f7670",
   "metadata": {},
   "outputs": [
    {
     "name": "stderr",
     "output_type": "stream",
     "text": [
      "C:\\Users\\ye2208\\AppData\\Local\\Temp/ipykernel_24640/2268258.py:1: UserWarning: Pandas requires version '3.0.5' or newer of 'xlsxwriter' (version '3.0.1' currently installed).\n",
      "  Superman_Plus_Weekly_Allocation.to_excel('Allocation_output/Superman_Plus_Weekly_Allocation.xlsx')\n"
     ]
    }
   ],
   "source": [
    "Superman_Plus_Weekly_Allocation.to_excel('Allocation_output/Superman_Plus_Weekly_Allocation.xlsx')"
   ]
  },
  {
   "cell_type": "code",
   "execution_count": 18,
   "id": "586c811d",
   "metadata": {},
   "outputs": [
    {
     "data": {
      "text/plain": [
       "<Figure size 864x432 with 0 Axes>"
      ]
     },
     "metadata": {},
     "output_type": "display_data"
    },
    {
     "data": {
      "image/png": "[encoded data removed]",
      "text/plain": [
       "<Figure size 432x288 with 1 Axes>"
      ]
     },
     "metadata": {
      "needs_background": "light"
     },
     "output_type": "display_data"
    },
    {
     "name": "stdout",
     "output_type": "stream",
     "text": [
      "Channel     O     R Reseller            \n",
      "Region      n     e      AMR Europe  PAC\n",
      "Week                                    \n",
      "Jan Wk2   0.0  15.0      0.0    0.0  0.0\n",
      "Jan Wk3  10.0   0.0      5.0    5.0  5.0\n",
      "Jan Wk4  10.0   5.0      5.0    5.0  5.0\n",
      "Jan Wk5  10.0   5.0      5.0    0.0  5.0\n"
     ]
    }
   ],
   "source": [
    "# Create weekly allocation by channel visualization\n",
    "plt.figure(figsize=(12, 6))\n",
    "\n",
    "# Pivot data for stacked bar chart\n",
    "Superman_Plus_Weekly_Allocation_Channel_customer = allo_df.pivot_table(\n",
    "    index='Week',\n",
    "    columns=['Channel', 'Region'],\n",
    "    values='Allocated',\n",
    "    aggfunc='sum',\n",
    "    fill_value=0\n",
    ")\n",
    "\n",
    "# Plot stacked bars\n",
    "colors = plt.cm.Set3(np.linspace(0, 1, len(Superman_Plus_Weekly_Allocation_Channel_customer.columns)))\n",
    "Superman_Plus_Weekly_Allocation_Channel_customer.plot(\n",
    "    kind='bar',\n",
    "    stacked=True,\n",
    "    color=colors,\n",
    "    width=0.8\n",
    ")\n",
    "\n",
    "# Add total labels on top of bars\n",
    "totals = Superman_Plus_Weekly_Allocation_Channel_customer.sum(axis=1)\n",
    "for i, total in enumerate(totals):\n",
    "    plt.text(i, total, f'{int(total)}', \n",
    "             ha='center', va='bottom')\n",
    "\n",
    "# Customize plot\n",
    "plt.title('Superman_Plus Weekly Allocation by Channel_customer', pad=20, fontsize=12)\n",
    "plt.xlabel('Week')\n",
    "plt.ylabel('Quantity')\n",
    "plt.grid(True, alpha=0.3)\n",
    "plt.legend(title='Channel-Region', \n",
    "          bbox_to_anchor=(1.05, 1), \n",
    "          loc='upper left')\n",
    "\n",
    "# Rotate x-axis labels for better readability\n",
    "plt.xticks(rotation=45)\n",
    "\n",
    "# Adjust layout to prevent label cutoff\n",
    "plt.tight_layout()\n",
    "\n",
    "\n",
    "plt.savefig('Allocation_output/Superman_Plus Weekly Allocation by Channel_customer.png', \n",
    "            dpi=300,\n",
    "            bbox_inches='tight',\n",
    "            facecolor='white',\n",
    "            edgecolor='none')\n",
    "\n",
    "\n",
    "plt.show()\n",
    "plt.close()\n",
    "\n",
    "# Display numerical summary\n",
    "print(Superman_Plus_Weekly_Allocation_Channel_customer)"
   ]
  },
  {
   "cell_type": "code",
   "execution_count": 19,
   "id": "fbd59bcb",
   "metadata": {},
   "outputs": [
    {
     "data": {
      "text/html": [
       "<div>\n",
       "<style scoped>\n",
       "    .dataframe tbody tr th:only-of-type {\n",
       "        vertical-align: middle;\n",
       "    }\n",
       "\n",
       "    .dataframe tbody tr th {\n",
       "        vertical-align: top;\n",
       "    }\n",
       "\n",
       "    .dataframe thead tr th {\n",
       "        text-align: left;\n",
       "    }\n",
       "\n",
       "    .dataframe thead tr:last-of-type th {\n",
       "        text-align: right;\n",
       "    }\n",
       "</style>\n",
       "<table border=\"1\" class=\"dataframe\">\n",
       "  <thead>\n",
       "    <tr>\n",
       "      <th>Channel</th>\n",
       "      <th>O</th>\n",
       "      <th>R</th>\n",
       "      <th colspan=\"3\" halign=\"left\">Reseller</th>\n",
       "    </tr>\n",
       "    <tr>\n",
       "      <th>Region</th>\n",
       "      <th>n</th>\n",
       "      <th>e</th>\n",
       "      <th>AMR</th>\n",
       "      <th>Europe</th>\n",
       "      <th>PAC</th>\n",
       "    </tr>\n",
       "    <tr>\n",
       "      <th>Week</th>\n",
       "      <th></th>\n",
       "      <th></th>\n",
       "      <th></th>\n",
       "      <th></th>\n",
       "      <th></th>\n",
       "    </tr>\n",
       "  </thead>\n",
       "  <tbody>\n",
       "    <tr>\n",
       "      <th>Jan Wk2</th>\n",
       "      <td>0.0</td>\n",
       "      <td>15.0</td>\n",
       "      <td>0.0</td>\n",
       "      <td>0.0</td>\n",
       "      <td>0.0</td>\n",
       "    </tr>\n",
       "    <tr>\n",
       "      <th>Jan Wk3</th>\n",
       "      <td>10.0</td>\n",
       "      <td>0.0</td>\n",
       "      <td>5.0</td>\n",
       "      <td>5.0</td>\n",
       "      <td>5.0</td>\n",
       "    </tr>\n",
       "    <tr>\n",
       "      <th>Jan Wk4</th>\n",
       "      <td>10.0</td>\n",
       "      <td>5.0</td>\n",
       "      <td>5.0</td>\n",
       "      <td>5.0</td>\n",
       "      <td>5.0</td>\n",
       "    </tr>\n",
       "    <tr>\n",
       "      <th>Jan Wk5</th>\n",
       "      <td>10.0</td>\n",
       "      <td>5.0</td>\n",
       "      <td>5.0</td>\n",
       "      <td>0.0</td>\n",
       "      <td>5.0</td>\n",
       "    </tr>\n",
       "  </tbody>\n",
       "</table>\n",
       "</div>"
      ],
      "text/plain": [
       "Channel     O     R Reseller            \n",
       "Region      n     e      AMR Europe  PAC\n",
       "Week                                    \n",
       "Jan Wk2   0.0  15.0      0.0    0.0  0.0\n",
       "Jan Wk3  10.0   0.0      5.0    5.0  5.0\n",
       "Jan Wk4  10.0   5.0      5.0    5.0  5.0\n",
       "Jan Wk5  10.0   5.0      5.0    0.0  5.0"
      ]
     },
     "execution_count": 19,
     "metadata": {},
     "output_type": "execute_result"
    }
   ],
   "source": [
    "Superman_Plus_Weekly_Allocation_Channel_customer"
   ]
  },
  {
   "cell_type": "code",
   "execution_count": 20,
   "id": "7d6c000b",
   "metadata": {},
   "outputs": [
    {
     "name": "stderr",
     "output_type": "stream",
     "text": [
      "C:\\Users\\ye2208\\AppData\\Local\\Temp/ipykernel_24640/2478607978.py:1: UserWarning: Pandas requires version '3.0.5' or newer of 'xlsxwriter' (version '3.0.1' currently installed).\n",
      "  Superman_Plus_Weekly_Allocation_Channel_customer.to_excel('Allocation_output/Superman_Plus_Weekly_Allocation_Channel_customer.xlsx')\n"
     ]
    }
   ],
   "source": [
    "Superman_Plus_Weekly_Allocation_Channel_customer.to_excel('Allocation_output/Superman_Plus_Weekly_Allocation_Channel_customer.xlsx')"
   ]
  },
  {
   "cell_type": "markdown",
   "id": "d898d8cd",
   "metadata": {},
   "source": [
    "2. Allocation Result Show"
   ]
  },
  {
   "cell_type": "markdown",
   "id": "47f256a9",
   "metadata": {},
   "source": [
    "2.1 Total Supply , Demand , Fulfill "
   ]
  },
  {
   "cell_type": "code",
   "execution_count": 21,
   "id": "b6d9cf8d",
   "metadata": {},
   "outputs": [
    {
     "data": {
      "image/png": "[encoded data removed]",
      "text/plain": [
       "<Figure size 864x720 with 2 Axes>"
      ]
     },
     "metadata": {
      "needs_background": "light"
     },
     "output_type": "display_data"
    },
    {
     "name": "stdout",
     "output_type": "stream",
     "text": [
      "\n",
      "Weekly Supply and Demand Summary:\n",
      "         Weekly Supply  Cum Supply  Cum Demand Superman  \\\n",
      "Jan Wk2             30         230                   85   \n",
      "Jan Wk3             40         270                  100   \n",
      "Jan Wk4             50         320                  110   \n",
      "Jan Wk5             60         380                  120   \n",
      "\n",
      "         Cum Demand Superman_Mini  Cum Demand Superman_Plus  Total Cum Demand  \\\n",
      "Jan Wk2                        40                        85               210   \n",
      "Jan Wk3                        60                       120               280   \n",
      "Jan Wk4                        70                       150               330   \n",
      "Jan Wk5                        75                       175               370   \n",
      "\n",
      "         Fulfillment Rate %  \n",
      "Jan Wk2               109.5  \n",
      "Jan Wk3                96.4  \n",
      "Jan Wk4                97.0  \n",
      "Jan Wk5               102.7  \n"
     ]
    }
   ],
   "source": [
    "# Calculate cumulative supply (including Week 1 built)\n",
    "weeks = ['Jan Wk2', 'Jan Wk3', 'Jan Wk4', 'Jan Wk5']\n",
    "supply_cum_actual = pd.Series(supply_cum.values(), index=weeks)\n",
    "\n",
    "# Create summary DataFrame\n",
    "summary_df = pd.DataFrame({\n",
    "    'Weekly Supply': list(supply_weekly.values()),\n",
    "    'Cum Supply': supply_cum_actual,\n",
    "    'Cum Demand Superman': demand_cum['Superman'],\n",
    "    'Cum Demand Superman_Mini': demand_cum['Superman_Mini'],\n",
    "    'Cum Demand Superman_Plus': demand_cum['Superman_Plus']\n",
    "}, index=weeks)\n",
    "\n",
    "# Calculate total cumulative demand\n",
    "summary_df['Total Cum Demand'] = (summary_df['Cum Demand Superman'] + \n",
    "                                 summary_df['Cum Demand Superman_Mini'] + \n",
    "                                 summary_df['Cum Demand Superman_Plus'])\n",
    "\n",
    "# Calculate correct weekly fulfillment rates\n",
    "summary_df['Fulfillment Rate %'] = (summary_df['Cum Supply'] / \n",
    "                                   summary_df['Total Cum Demand'] * 100).round(1)\n",
    "\n",
    "# Create visualization\n",
    "fig, (ax1, ax2) = plt.subplots(2, 1, figsize=(12, 10))\n",
    "\n",
    "# Plot 1: Cumulative Supply vs Demand\n",
    "ax1.plot(weeks, summary_df['Cum Supply'].values, 'b-', marker='o', \n",
    "         label='Cumulative Supply', linewidth=2)\n",
    "ax1.plot(weeks, summary_df['Total Cum Demand'].values, 'r--', marker='s', \n",
    "         label='Cumulative Demand', linewidth=2)\n",
    "\n",
    "# Add fulfillment rate labels\n",
    "for i, week in enumerate(weeks):\n",
    "    rate = summary_df.loc[week, 'Fulfillment Rate %']\n",
    "    supply = summary_df.loc[week, 'Cum Supply']\n",
    "    ax1.text(i, supply, f'{rate}%\\n({supply})', ha='center', va='bottom')\n",
    "\n",
    "ax1.set_title('Cumulative Supply vs Demand')\n",
    "ax1.set_xlabel('Week')\n",
    "ax1.set_ylabel('Units')\n",
    "ax1.grid(True, alpha=0.3)\n",
    "ax1.legend()\n",
    "\n",
    "# Plot 2: Weekly Fulfillment Rates\n",
    "ax2.bar(weeks, summary_df['Fulfillment Rate %'].values, color='skyblue')\n",
    "ax2.axhline(y=100, color='r', linestyle='--', alpha=0.5)\n",
    "\n",
    "# Add percentage labels on bars\n",
    "for i, v in enumerate(summary_df['Fulfillment Rate %'].values):\n",
    "    ax2.text(i, v, f'{v}%', ha='center', va='bottom')\n",
    "\n",
    "ax2.set_title('Weekly Fulfillment Rates')\n",
    "ax2.set_xlabel('Week')\n",
    "ax2.set_ylabel('Fulfillment Rate (%)')\n",
    "ax2.grid(True, alpha=0.3)\n",
    "\n",
    "plt.tight_layout()\n",
    "\n",
    "plt.savefig('Allocation_output/Cumulative Supply vs Demand.png', \n",
    "            dpi=300,\n",
    "            bbox_inches='tight',\n",
    "            facecolor='white',\n",
    "            edgecolor='none')\n",
    "\n",
    "plt.show()\n",
    "plt.close()\n",
    "\n",
    "# Display detailed summary\n",
    "print(\"\\nWeekly Supply and Demand Summary:\")\n",
    "print(summary_df)"
   ]
  },
  {
   "cell_type": "code",
   "execution_count": 22,
   "id": "02016b8f",
   "metadata": {},
   "outputs": [
    {
     "data": {
      "text/html": [
       "<div>\n",
       "<style scoped>\n",
       "    .dataframe tbody tr th:only-of-type {\n",
       "        vertical-align: middle;\n",
       "    }\n",
       "\n",
       "    .dataframe tbody tr th {\n",
       "        vertical-align: top;\n",
       "    }\n",
       "\n",
       "    .dataframe thead th {\n",
       "        text-align: right;\n",
       "    }\n",
       "</style>\n",
       "<table border=\"1\" class=\"dataframe\">\n",
       "  <thead>\n",
       "    <tr style=\"text-align: right;\">\n",
       "      <th></th>\n",
       "      <th>Weekly Supply</th>\n",
       "      <th>Cum Supply</th>\n",
       "      <th>Cum Demand Superman</th>\n",
       "      <th>Cum Demand Superman_Mini</th>\n",
       "      <th>Cum Demand Superman_Plus</th>\n",
       "      <th>Total Cum Demand</th>\n",
       "      <th>Fulfillment Rate %</th>\n",
       "    </tr>\n",
       "  </thead>\n",
       "  <tbody>\n",
       "    <tr>\n",
       "      <th>Jan Wk2</th>\n",
       "      <td>30</td>\n",
       "      <td>230</td>\n",
       "      <td>85</td>\n",
       "      <td>40</td>\n",
       "      <td>85</td>\n",
       "      <td>210</td>\n",
       "      <td>109.5</td>\n",
       "    </tr>\n",
       "    <tr>\n",
       "      <th>Jan Wk3</th>\n",
       "      <td>40</td>\n",
       "      <td>270</td>\n",
       "      <td>100</td>\n",
       "      <td>60</td>\n",
       "      <td>120</td>\n",
       "      <td>280</td>\n",
       "      <td>96.4</td>\n",
       "    </tr>\n",
       "    <tr>\n",
       "      <th>Jan Wk4</th>\n",
       "      <td>50</td>\n",
       "      <td>320</td>\n",
       "      <td>110</td>\n",
       "      <td>70</td>\n",
       "      <td>150</td>\n",
       "      <td>330</td>\n",
       "      <td>97.0</td>\n",
       "    </tr>\n",
       "    <tr>\n",
       "      <th>Jan Wk5</th>\n",
       "      <td>60</td>\n",
       "      <td>380</td>\n",
       "      <td>120</td>\n",
       "      <td>75</td>\n",
       "      <td>175</td>\n",
       "      <td>370</td>\n",
       "      <td>102.7</td>\n",
       "    </tr>\n",
       "  </tbody>\n",
       "</table>\n",
       "</div>"
      ],
      "text/plain": [
       "         Weekly Supply  Cum Supply  Cum Demand Superman  \\\n",
       "Jan Wk2             30         230                   85   \n",
       "Jan Wk3             40         270                  100   \n",
       "Jan Wk4             50         320                  110   \n",
       "Jan Wk5             60         380                  120   \n",
       "\n",
       "         Cum Demand Superman_Mini  Cum Demand Superman_Plus  Total Cum Demand  \\\n",
       "Jan Wk2                        40                        85               210   \n",
       "Jan Wk3                        60                       120               280   \n",
       "Jan Wk4                        70                       150               330   \n",
       "Jan Wk5                        75                       175               370   \n",
       "\n",
       "         Fulfillment Rate %  \n",
       "Jan Wk2               109.5  \n",
       "Jan Wk3                96.4  \n",
       "Jan Wk4                97.0  \n",
       "Jan Wk5               102.7  "
      ]
     },
     "execution_count": 22,
     "metadata": {},
     "output_type": "execute_result"
    }
   ],
   "source": [
    "summary_df"
   ]
  },
  {
   "cell_type": "code",
   "execution_count": null,
   "id": "0942ebf3",
   "metadata": {},
   "outputs": [],
   "source": []
  },
  {
   "cell_type": "markdown",
   "id": "65f161ed",
   "metadata": {},
   "source": [
    "2. By product  Supply , Demand , Fulfill "
   ]
  },
  {
   "cell_type": "code",
   "execution_count": 23,
   "id": "bf26a26f",
   "metadata": {},
   "outputs": [
    {
     "data": {
      "image/png": "[encoded data removed]",
      "text/plain": [
       "<Figure size 1080x864 with 2 Axes>"
      ]
     },
     "metadata": {
      "needs_background": "light"
     },
     "output_type": "display_data"
    },
    {
     "name": "stdout",
     "output_type": "stream",
     "text": [
      "\n",
      "Weekly Fulfillment Rates by Product (%):\n",
      "         Superman  Superman_Plus  Superman_Mini\n",
      "Jan Wk2     100.0          100.0          150.0\n",
      "Jan Wk3     100.0           91.7          100.0\n",
      "Jan Wk4     100.0           93.3          100.0\n",
      "Jan Wk5     100.0           94.3          100.0\n"
     ]
    }
   ],
   "source": [
    "import pandas as pd\n",
    "import matplotlib.pyplot as plt\n",
    "import numpy as np\n",
    "\n",
    "# Define weeks and products\n",
    "weeks = ['Jan Wk2', 'Jan Wk3', 'Jan Wk4', 'Jan Wk5']\n",
    "products = ['Superman', 'Superman_Plus', 'Superman_Mini']\n",
    "\n",
    "# Calculate cumulative built + allocated by product\n",
    "cum_alloc = {\n",
    "    'Superman': np.array([85, 100, 110, 120]),      # Wk2-Wk5\n",
    "    'Superman_Plus': np.array([85, 110, 140, 165]), \n",
    "    'Superman_Mini': np.array([60, 60, 70, 75])     \n",
    "}\n",
    "\n",
    "# Define cumulative demand (make sure it matches weeks)\n",
    "demand_data = {\n",
    "    'Superman': np.array([85, 100, 110, 120]),      # Wk2-Wk5\n",
    "    'Superman_Plus': np.array([85, 120, 150, 175]), \n",
    "    'Superman_Mini': np.array([40, 60, 70, 75])     \n",
    "}\n",
    "\n",
    "# Create detailed summary DataFrame\n",
    "detailed_df = pd.DataFrame(index=weeks)\n",
    "\n",
    "for product in products:\n",
    "    detailed_df[f'{product} Supply'] = cum_alloc[product]\n",
    "    detailed_df[f'{product} Demand'] = demand_data[product]\n",
    "    detailed_df[f'{product} Fulfill %'] = np.round(\n",
    "        (detailed_df[f'{product} Supply'].values / \n",
    "         detailed_df[f'{product} Demand'].values * 100), 1)\n",
    "\n",
    "# Create visualization\n",
    "fig, (ax1, ax2) = plt.subplots(2, 1, figsize=(15, 12))\n",
    "\n",
    "# Define colors - Updated to match exact product names\n",
    "colors = {\n",
    "    'Superman': '#4E79A7',        # Blue\n",
    "    'Superman_Plus': '#F28E2B',   # Orange\n",
    "    'Superman_Mini': '#59A14F'    # Green\n",
    "}\n",
    "\n",
    "# Plot 1: Fulfillment Rates by Product\n",
    "for product in products:\n",
    "    rates = detailed_df[f'{product} Fulfill %'].values\n",
    "    ax1.plot(weeks, rates, marker='o', linewidth=2, \n",
    "             label=product, color=colors[product])\n",
    "    \n",
    "    # Add percentage labels\n",
    "    for i, rate in enumerate(rates):\n",
    "        ax1.text(i, rate, f'{rate}%', ha='center', va='bottom')\n",
    "\n",
    "ax1.axhline(y=100, color='r', linestyle='--', alpha=0.5, label='Target')\n",
    "ax1.set_title('Weekly Fulfillment Rates by Product', pad=20, fontsize=14)\n",
    "ax1.set_ylabel('Fulfillment Rate (%)')\n",
    "ax1.grid(True, alpha=0.3)\n",
    "ax1.legend(bbox_to_anchor=(1.05, 1))\n",
    "\n",
    "# Plot 2: Supply vs Demand by Product\n",
    "for product in products:\n",
    "    supply = detailed_df[f'{product} Supply'].values\n",
    "    demand = detailed_df[f'{product} Demand'].values\n",
    "    \n",
    "    ax2.plot(weeks, supply, '-', marker='o', \n",
    "             label=f'{product} Supply', color=colors[product])\n",
    "    ax2.plot(weeks, demand, '--', marker='s', \n",
    "             label=f'{product} Demand', color=colors[product], alpha=0.5)\n",
    "    \n",
    "    # Add supply numbers\n",
    "    for i, sup in enumerate(supply):\n",
    "        ax2.text(i, sup, f'{int(sup)}', ha='center', va='bottom')\n",
    "\n",
    "ax2.set_title('Supply vs Demand by Product', pad=20, fontsize=14)\n",
    "ax2.set_ylabel('Units')\n",
    "ax2.grid(True, alpha=0.3)\n",
    "ax2.legend(bbox_to_anchor=(1.05, 1))\n",
    "\n",
    "plt.tight_layout()\n",
    "plt.savefig('Allocation_output/Supply vs Demand by Product.png', \n",
    "            dpi=300,\n",
    "            bbox_inches='tight',\n",
    "            facecolor='white',\n",
    "            edgecolor='none')\n",
    "\n",
    "\n",
    "plt.show()\n",
    "plt.close()\n",
    "\n",
    "\n",
    "# Display summary table with proper column names\n",
    "Fulfill_df_product = pd.DataFrame({\n",
    "    product: detailed_df[f'{product} Fulfill %'].values \n",
    "    for product in products\n",
    "}, index=weeks)\n",
    "\n",
    "print(\"\\nWeekly Fulfillment Rates by Product (%):\")\n",
    "print(Fulfill_df_product.round(1))"
   ]
  },
  {
   "cell_type": "code",
   "execution_count": 24,
   "id": "5dda75dd",
   "metadata": {},
   "outputs": [
    {
     "data": {
      "text/html": [
       "<div>\n",
       "<style scoped>\n",
       "    .dataframe tbody tr th:only-of-type {\n",
       "        vertical-align: middle;\n",
       "    }\n",
       "\n",
       "    .dataframe tbody tr th {\n",
       "        vertical-align: top;\n",
       "    }\n",
       "\n",
       "    .dataframe thead th {\n",
       "        text-align: right;\n",
       "    }\n",
       "</style>\n",
       "<table border=\"1\" class=\"dataframe\">\n",
       "  <thead>\n",
       "    <tr style=\"text-align: right;\">\n",
       "      <th></th>\n",
       "      <th>Superman</th>\n",
       "      <th>Superman_Plus</th>\n",
       "      <th>Superman_Mini</th>\n",
       "    </tr>\n",
       "  </thead>\n",
       "  <tbody>\n",
       "    <tr>\n",
       "      <th>Jan Wk2</th>\n",
       "      <td>100.0</td>\n",
       "      <td>100.0</td>\n",
       "      <td>150.0</td>\n",
       "    </tr>\n",
       "    <tr>\n",
       "      <th>Jan Wk3</th>\n",
       "      <td>100.0</td>\n",
       "      <td>91.7</td>\n",
       "      <td>100.0</td>\n",
       "    </tr>\n",
       "    <tr>\n",
       "      <th>Jan Wk4</th>\n",
       "      <td>100.0</td>\n",
       "      <td>93.3</td>\n",
       "      <td>100.0</td>\n",
       "    </tr>\n",
       "    <tr>\n",
       "      <th>Jan Wk5</th>\n",
       "      <td>100.0</td>\n",
       "      <td>94.3</td>\n",
       "      <td>100.0</td>\n",
       "    </tr>\n",
       "  </tbody>\n",
       "</table>\n",
       "</div>"
      ],
      "text/plain": [
       "         Superman  Superman_Plus  Superman_Mini\n",
       "Jan Wk2     100.0          100.0          150.0\n",
       "Jan Wk3     100.0           91.7          100.0\n",
       "Jan Wk4     100.0           93.3          100.0\n",
       "Jan Wk5     100.0           94.3          100.0"
      ]
     },
     "execution_count": 24,
     "metadata": {},
     "output_type": "execute_result"
    }
   ],
   "source": [
    "Fulfill_df_product"
   ]
  },
  {
   "cell_type": "code",
   "execution_count": 25,
   "id": "d3141cac",
   "metadata": {},
   "outputs": [
    {
     "data": {
      "text/html": [
       "<div>\n",
       "<style scoped>\n",
       "    .dataframe tbody tr th:only-of-type {\n",
       "        vertical-align: middle;\n",
       "    }\n",
       "\n",
       "    .dataframe tbody tr th {\n",
       "        vertical-align: top;\n",
       "    }\n",
       "\n",
       "    .dataframe thead th {\n",
       "        text-align: right;\n",
       "    }\n",
       "</style>\n",
       "<table border=\"1\" class=\"dataframe\">\n",
       "  <thead>\n",
       "    <tr style=\"text-align: right;\">\n",
       "      <th></th>\n",
       "      <th>Superman Supply</th>\n",
       "      <th>Superman Demand</th>\n",
       "      <th>Superman Fulfill %</th>\n",
       "      <th>Superman_Plus Supply</th>\n",
       "      <th>Superman_Plus Demand</th>\n",
       "      <th>Superman_Plus Fulfill %</th>\n",
       "      <th>Superman_Mini Supply</th>\n",
       "      <th>Superman_Mini Demand</th>\n",
       "      <th>Superman_Mini Fulfill %</th>\n",
       "    </tr>\n",
       "  </thead>\n",
       "  <tbody>\n",
       "    <tr>\n",
       "      <th>Jan Wk2</th>\n",
       "      <td>85</td>\n",
       "      <td>85</td>\n",
       "      <td>100.0</td>\n",
       "      <td>85</td>\n",
       "      <td>85</td>\n",
       "      <td>100.0</td>\n",
       "      <td>60</td>\n",
       "      <td>40</td>\n",
       "      <td>150.0</td>\n",
       "    </tr>\n",
       "    <tr>\n",
       "      <th>Jan Wk3</th>\n",
       "      <td>100</td>\n",
       "      <td>100</td>\n",
       "      <td>100.0</td>\n",
       "      <td>110</td>\n",
       "      <td>120</td>\n",
       "      <td>91.7</td>\n",
       "      <td>60</td>\n",
       "      <td>60</td>\n",
       "      <td>100.0</td>\n",
       "    </tr>\n",
       "    <tr>\n",
       "      <th>Jan Wk4</th>\n",
       "      <td>110</td>\n",
       "      <td>110</td>\n",
       "      <td>100.0</td>\n",
       "      <td>140</td>\n",
       "      <td>150</td>\n",
       "      <td>93.3</td>\n",
       "      <td>70</td>\n",
       "      <td>70</td>\n",
       "      <td>100.0</td>\n",
       "    </tr>\n",
       "    <tr>\n",
       "      <th>Jan Wk5</th>\n",
       "      <td>120</td>\n",
       "      <td>120</td>\n",
       "      <td>100.0</td>\n",
       "      <td>165</td>\n",
       "      <td>175</td>\n",
       "      <td>94.3</td>\n",
       "      <td>75</td>\n",
       "      <td>75</td>\n",
       "      <td>100.0</td>\n",
       "    </tr>\n",
       "  </tbody>\n",
       "</table>\n",
       "</div>"
      ],
      "text/plain": [
       "         Superman Supply  Superman Demand  Superman Fulfill %  \\\n",
       "Jan Wk2               85               85               100.0   \n",
       "Jan Wk3              100              100               100.0   \n",
       "Jan Wk4              110              110               100.0   \n",
       "Jan Wk5              120              120               100.0   \n",
       "\n",
       "         Superman_Plus Supply  Superman_Plus Demand  Superman_Plus Fulfill %  \\\n",
       "Jan Wk2                    85                    85                    100.0   \n",
       "Jan Wk3                   110                   120                     91.7   \n",
       "Jan Wk4                   140                   150                     93.3   \n",
       "Jan Wk5                   165                   175                     94.3   \n",
       "\n",
       "         Superman_Mini Supply  Superman_Mini Demand  Superman_Mini Fulfill %  \n",
       "Jan Wk2                    60                    40                    150.0  \n",
       "Jan Wk3                    60                    60                    100.0  \n",
       "Jan Wk4                    70                    70                    100.0  \n",
       "Jan Wk5                    75                    75                    100.0  "
      ]
     },
     "execution_count": 25,
     "metadata": {},
     "output_type": "execute_result"
    }
   ],
   "source": [
    "detailed_df"
   ]
  },
  {
   "cell_type": "code",
   "execution_count": null,
   "id": "fd1b28af",
   "metadata": {},
   "outputs": [],
   "source": []
  }
 ],
 "metadata": {
  "kernelspec": {
   "display_name": "base",
   "language": "python",
   "name": "python3"
  },
  "language_info": {
   "codemirror_mode": {
    "name": "ipython",
    "version": 3
   },
   "file_extension": ".py",
   "mimetype": "text/x-python",
   "name": "python",
   "nbconvert_exporter": "python",
   "pygments_lexer": "ipython3",
   "version": "3.9.7"
  }
 },
 "nbformat": 4,
 "nbformat_minor": 5
}
